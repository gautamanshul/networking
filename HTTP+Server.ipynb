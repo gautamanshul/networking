{
 "cells": [
  {
   "cell_type": "code",
   "execution_count": 1,
   "metadata": {},
   "outputs": [],
   "source": [
    "import socket \n",
    "from socket import *\n",
    "import os\n",
    "import time\n"
   ]
  },
  {
   "cell_type": "code",
   "execution_count": 2,
   "metadata": {},
   "outputs": [],
   "source": [
    "Host = '192.168.0.12'\n",
    "Port = 5849\n",
    "serverSocket = socket(AF_INET, SOCK_STREAM)\n",
    "serverSocket.bind((Host, Port))\n"
   ]
  },
  {
   "cell_type": "code",
   "execution_count": null,
   "metadata": {},
   "outputs": [
    {
     "name": "stdout",
     "output_type": "stream",
     "text": [
      "Ready to serve...\n",
      "Awaiting Connection\n",
      "Connected by ('192.168.0.12', 55685)\n",
      "Message:  b'GET /helloworld.html HTTP/1.1\\r\\nHost: 192.168.0.12:5849\\r\\nConnection: keep-alive\\r\\nCache-Control: max-age=0\\r\\nUser-Agent: Mozilla/5.0 (Windows NT 10.0; Win64; x64) AppleWebKit/537.36 (KHTML, like Gecko) Chrome/61.0.3163.100 Safari/537.36\\r\\nUpgrade-Insecure-Requests: 1\\r\\nAccept: text/html,application/xhtml+xml,application/xml;q=0.9,image/webp,image/apng,*/*;q=0.8\\r\\nAccept-Encoding: gzip, deflate\\r\\nAccept-Language: en-US,en;q=0.8\\r\\n\\r\\n'\n",
      "Method:  GET\n",
      "Request body:  GET /helloworld.html HTTP/1.1\n",
      "Host: 192.168.0.12:5849\n",
      "Connection: keep-alive\n",
      "Cache-Control: max-age=0\n",
      "User-Agent: Mozilla/5.0 (Windows NT 10.0; Win64; x64) AppleWebKit/537.36 (KHTML, like Gecko) Chrome/61.0.3163.100 Safari/537.36\n",
      "Upgrade-Insecure-Requests: 1\n",
      "Accept: text/html,application/xhtml+xml,application/xml;q=0.9,image/webp,image/apng,*/*;q=0.8\n",
      "Accept-Encoding: gzip, deflate\n",
      "Accept-Language: en-US,en;q=0.8\n",
      "\n",
      "\n",
      "Filename:  b'/helloworld.html'\n",
      "cwd C:\\Users\\Anshul\n",
      "Ready to serve...\n",
      "Awaiting Connection\n",
      "Connected by ('192.168.0.12', 55686)\n",
      "Message:  b''\n",
      "Method:  \n",
      "Request body:  \n",
      "Bad HTTP Request \n",
      "Ready to serve...\n",
      "Awaiting Connection\n",
      "Connected by ('192.168.0.12', 55689)\n",
      "Message:  b'GET /helloworld.htm HTTP/1.1\\r\\nHost: 192.168.0.12:5849\\r\\nConnection: keep-alive\\r\\nUser-Agent: Mozilla/5.0 (Windows NT 10.0; Win64; x64) AppleWebKit/537.36 (KHTML, like Gecko) Chrome/61.0.3163.100 Safari/537.36\\r\\nUpgrade-Insecure-Requests: 1\\r\\nAccept: text/html,application/xhtml+xml,application/xml;q=0.9,image/webp,image/apng,*/*;q=0.8\\r\\nAccept-Encoding: gzip, deflate\\r\\nAccept-Language: en-US,en;q=0.8\\r\\n\\r\\n'\n",
      "Method:  GET\n",
      "Request body:  GET /helloworld.htm HTTP/1.1\n",
      "Host: 192.168.0.12:5849\n",
      "Connection: keep-alive\n",
      "User-Agent: Mozilla/5.0 (Windows NT 10.0; Win64; x64) AppleWebKit/537.36 (KHTML, like Gecko) Chrome/61.0.3163.100 Safari/537.36\n",
      "Upgrade-Insecure-Requests: 1\n",
      "Accept: text/html,application/xhtml+xml,application/xml;q=0.9,image/webp,image/apng,*/*;q=0.8\n",
      "Accept-Encoding: gzip, deflate\n",
      "Accept-Language: en-US,en;q=0.8\n",
      "\n",
      "\n",
      "Filename:  b'/helloworld.htm'\n",
      "cwd C:\\Users\\Anshul\n",
      "Warning, file not found. Serving response code 404\n",
      " <class 'OSError'>\n",
      "Ready to serve...\n",
      "Awaiting Connection\n",
      "Connected by ('192.168.0.12', 55690)\n",
      "Message:  b''\n",
      "Method:  \n",
      "Request body:  \n",
      "Bad HTTP Request \n",
      "Ready to serve...\n",
      "Awaiting Connection\n",
      "Connected by ('192.168.0.12', 55697)\n",
      "Message:  b'GET /helloworld.html HTTP/1.1\\r\\nHost: 192.168.0.12:5849\\r\\nConnection: keep-alive\\r\\nUser-Agent: Mozilla/5.0 (Windows NT 10.0; Win64; x64) AppleWebKit/537.36 (KHTML, like Gecko) Chrome/61.0.3163.100 Safari/537.36\\r\\nUpgrade-Insecure-Requests: 1\\r\\nAccept: text/html,application/xhtml+xml,application/xml;q=0.9,image/webp,image/apng,*/*;q=0.8\\r\\nAccept-Encoding: gzip, deflate\\r\\nAccept-Language: en-US,en;q=0.8\\r\\n\\r\\n'\n",
      "Method:  GET\n",
      "Request body:  GET /helloworld.html HTTP/1.1\n",
      "Host: 192.168.0.12:5849\n",
      "Connection: keep-alive\n",
      "User-Agent: Mozilla/5.0 (Windows NT 10.0; Win64; x64) AppleWebKit/537.36 (KHTML, like Gecko) Chrome/61.0.3163.100 Safari/537.36\n",
      "Upgrade-Insecure-Requests: 1\n",
      "Accept: text/html,application/xhtml+xml,application/xml;q=0.9,image/webp,image/apng,*/*;q=0.8\n",
      "Accept-Encoding: gzip, deflate\n",
      "Accept-Language: en-US,en;q=0.8\n",
      "\n",
      "\n",
      "Filename:  b'/helloworld.html'\n",
      "cwd C:\\Users\\Anshul\n",
      "Ready to serve...\n",
      "Awaiting Connection\n",
      "Connected by ('192.168.0.12', 55698)\n",
      "Message:  b''\n",
      "Method:  \n",
      "Request body:  \n",
      "Bad HTTP Request \n",
      "Ready to serve...\n",
      "Awaiting Connection\n"
     ]
    }
   ],
   "source": [
    "#Prepare a sever socket\n",
    "#Fill in start\n",
    "#Fill in end\n",
    "while True:\n",
    "    #Establish the connection\n",
    "    print('Ready to serve...')\n",
    "    serverSocket.listen(1)\n",
    "    print('Awaiting Connection')\n",
    "    conn, addr = serverSocket.accept()\n",
    "    print('Connected by', addr)\n",
    "    message = conn.recv(1024)\n",
    "    print (\"Message: \", message)\n",
    "    string = bytes.decode(message) #decode it to string\n",
    "    request_method = string.split(' ')[0]\n",
    "    print (\"Method: \", request_method)\n",
    "    print (\"Request body: \", string)\n",
    "    #Check if the GET method is called else return error\n",
    "    if (request_method == 'GET'):\n",
    "        try:        \n",
    "            filename = message.split()[1]\n",
    "        #    filename = filename[1:]\n",
    "            print (\"Filename: \", filename)\n",
    "\n",
    "            cwd = os.getcwd()\n",
    "            print (\"cwd\", cwd)\n",
    "\n",
    "            filedata = open(filename[1:], 'rb')\n",
    "            content = filedata.read()\n",
    "            filedata.close()\n",
    "            h = 'HTTP/1.1 200 OK\\n'\n",
    "            current_date = time.strftime(\"%a, %d %b %Y %H:%M:%S\", time.localtime())\n",
    "            h += 'Date: ' + current_date +'\\n'\n",
    "            h += 'Server: Python Web Server\\n'\n",
    "            h += 'Connection: close\\n\\n'\n",
    "        except IOError:\n",
    "            print (\"Warning, file not found. Serving response code 404\\n\", IOError)\n",
    "            h = 'HTTP/1.1 404 Not Found\\n'\n",
    "            current_date = time.strftime(\"%a, %d %b %Y %H:%M:%S\", time.localtime())\n",
    "            h += 'Date: ' + current_date +'\\n'\n",
    "            h += 'Server: Python Web Server\\n'\n",
    "            h += 'Connection: close\\n\\n'\n",
    "            content = b\"<html><body><p>Error 404: File not found</p><p>Python HTTP server</p></body></html>\"\n",
    "        server_response = h.encode()\n",
    "        server_response += content\n",
    "        #Send the content of the requested file to the client\n",
    "        #for i in range(0, len(server_response)):           \n",
    "        conn.send(server_response)\n",
    "        #conn.send(\"\\r\\n\".encode())\n",
    "        conn.close()\n",
    "    else:\n",
    "        print('Bad HTTP Request', request_method)\n",
    "ServerSocket.close()"
   ]
  },
  {
   "cell_type": "code",
   "execution_count": null,
   "metadata": {},
   "outputs": [],
   "source": [
    "    \n",
    "        "
   ]
  },
  {
   "cell_type": "code",
   "execution_count": null,
   "metadata": {
    "collapsed": true
   },
   "outputs": [],
   "source": []
  },
  {
   "cell_type": "code",
   "execution_count": null,
   "metadata": {
    "collapsed": true
   },
   "outputs": [],
   "source": []
  },
  {
   "cell_type": "code",
   "execution_count": null,
   "metadata": {
    "collapsed": true
   },
   "outputs": [],
   "source": []
  }
 ],
 "metadata": {
  "kernelspec": {
   "display_name": "Python 3",
   "language": "python",
   "name": "python3"
  },
  "language_info": {
   "codemirror_mode": {
    "name": "ipython",
    "version": 3
   },
   "file_extension": ".py",
   "mimetype": "text/x-python",
   "name": "python",
   "nbconvert_exporter": "python",
   "pygments_lexer": "ipython3",
   "version": "3.6.1"
  }
 },
 "nbformat": 4,
 "nbformat_minor": 2
}
